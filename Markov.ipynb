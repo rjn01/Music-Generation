{
 "cells": [
  {
   "cell_type": "markdown",
   "metadata": {
    "colab_type": "text",
    "id": "GW78W_XeUCYE"
   },
   "source": [
    "**Markov Chain**"
   ]
  },
  {
   "cell_type": "code",
   "execution_count": 1,
   "metadata": {
    "colab": {},
    "colab_type": "code",
    "id": "atXM5HaeKtv_"
   },
   "outputs": [],
   "source": [
    "def generatetable(text,k=4):\n",
    "  T={}\n",
    "  for i in range(len(text)-k):\n",
    "    X=text[i:i+k]\n",
    "    Y=text[i+k]\n",
    "    #print(X,Y)\n",
    "    if T.get(X) is None:\n",
    "      T[X]={}\n",
    "      T[X][Y]=1\n",
    "    else:\n",
    "      if T[X].get(Y) is None:\n",
    "        T[X][Y]=1\n",
    "      else:\n",
    "        T[X][Y] +=1\n",
    "  return T"
   ]
  },
  {
   "cell_type": "code",
   "execution_count": 2,
   "metadata": {
    "colab": {},
    "colab_type": "code",
    "id": "2jIp94ifKvaZ"
   },
   "outputs": [],
   "source": [
    "def convertFreqIntoProb(T):     \n",
    "    for kx in T.keys():\n",
    "        s = float(sum(T[kx].values()))\n",
    "        for k in T[kx].keys():\n",
    "            T[kx][k] = T[kx][k]/s\n",
    "                \n",
    "    return T"
   ]
  },
  {
   "cell_type": "code",
   "execution_count": 3,
   "metadata": {
    "colab": {},
    "colab_type": "code",
    "id": "VdlEr1OJK1wx"
   },
   "outputs": [],
   "source": [
    "text_path = \"all-of-me.txt\"\n",
    "path=\"\"\n",
    "def load_text(filename):\n",
    "    with open(filename,encoding='utf8') as f:\n",
    "        return f.read().lower()\n",
    "    \n",
    "text = load_text(text_path)\n",
    "\n"
   ]
  },
  {
   "cell_type": "code",
   "execution_count": 4,
   "metadata": {
    "colab": {},
    "colab_type": "code",
    "id": "XBghe6rXJvh9"
   },
   "outputs": [],
   "source": [
    "def train(text,k=4):\n",
    "  T = generatetable(text,k)\n",
    "  T = convertFreqIntoProb(T)\n",
    "    \n",
    "  return T"
   ]
  },
  {
   "cell_type": "code",
   "execution_count": 5,
   "metadata": {
    "colab": {},
    "colab_type": "code",
    "id": "IFD5ee0BLCo7"
   },
   "outputs": [],
   "source": [
    "model = train(text)"
   ]
  },
  {
   "cell_type": "code",
   "execution_count": 6,
   "metadata": {
    "colab": {
     "base_uri": "https://localhost:8080/",
     "height": 54
    },
    "colab_type": "code",
    "executionInfo": {
     "elapsed": 1351,
     "status": "ok",
     "timestamp": 1588108217018,
     "user": {
      "displayName": "rajan puri",
      "photoUrl": "",
      "userId": "06101096958930631488"
     },
     "user_tz": -330
    },
    "id": "11QfAcS_LJeE",
    "outputId": "64a29f2e-a5eb-457e-dc38-2cf9a13f249f"
   },
   "outputs": [
    {
     "name": "stdout",
     "output_type": "stream",
     "text": [
      "{'what': {' ': 0.6666666666666666, \"'\": 0.3333333333333333}, 'hat ': {'w': 0.3333333333333333, 'b': 0.3333333333333333, 'h': 0.3333333333333333}, 'at w': {'o': 1.0}, 't wo': {'u': 1.0}, ' wou': {'l': 1.0}, 'woul': {'d': 1.0}, 'ould': {' ': 1.0}, 'uld ': {'i': 1.0}, 'ld i': {' ': 0.5, 's': 0.5}, 'd i ': {'d': 1.0}, ' i d': {'o': 1.0}, 'i do': {' ': 1.0}, ' do ': {'w': 0.5, 'i': 0.5}, 'do w': {'i': 1.0}, 'o wi': {'t': 1.0}, ' wit': {'h': 1.0}, 'with': {'o': 1.0}, 'itho': {'u': 1.0}, 'thou': {'t': 0.5, 'g': 0.5}, 'hout': {' ': 1.0}, 'out ': {'y': 0.3333333333333333, 'o': 0.6666666666666666}, 'ut y': {'o': 1.0}, 't yo': {'u': 1.0}, ' you': {'r': 0.358974358974359, ' ': 0.28205128205128205, '\\n': 0.28205128205128205, \"'\": 0.07692307692307693}, 'your': {' ': 1.0}, 'our ': {'s': 0.07142857142857142, 'm': 0.07142857142857142, 'c': 0.21428571428571427, 'e': 0.21428571428571427, 'p': 0.21428571428571427, 'a': 0.21428571428571427}, 'ur s': {'m': 1.0}, 'r sm': {'a': 1.0}, ' sma': {'r': 1.0}, 'smar': {'t': 1.0}, 'mart': {' ': 1.0}, 'art ': {'m': 1.0}, 'rt m': {'o': 1.0}, 't mo': {'u': 1.0}, ' mou': {'t': 1.0}, 'mout': {'h': 1.0}, 'outh': {'\\n': 1.0}, 'uth\\n': {'d': 1.0}, 'th\\nd': {'r': 1.0}, 'h\\ndr': {'a': 1.0}, '\\ndra': {'w': 1.0}, 'draw': {'i': 1.0}, 'rawi': {'n': 1.0}, 'awin': {'g': 1.0}, 'wing': {' ': 1.0}, 'ing ': {'m': 0.2222222222222222, 'o': 0.1111111111111111, 'f': 0.2222222222222222, 'y': 0.2222222222222222, 'h': 0.1111111111111111, 'i': 0.1111111111111111}, 'ng m': {'e': 1.0}, 'g me': {' ': 1.0}, ' me ': {'i': 0.16666666666666666, 'o': 0.16666666666666666, 'a': 0.6666666666666666}, 'me i': {'n': 1.0}, 'e in': {',': 1.0}, ' in,': {' ': 1.0}, 'in, ': {'a': 1.0}, 'n, a': {'n': 1.0}, ', an': {'d': 1.0}, ' and': {' ': 1.0}, 'and ': {'y': 0.3333333333333333, 'i': 0.2, 'a': 0.2, 'm': 0.2, 'b': 0.06666666666666667}, 'nd y': {'o': 1.0}, 'd yo': {'u': 1.0}, 'you ': {'k': 0.09090909090909091, 'd': 0.18181818181818182, 'a': 0.36363636363636365, 'g': 0.36363636363636365}, 'ou k': {'i': 1.0}, 'u ki': {'c': 1.0}, ' kic': {'k': 1.0}, 'kick': {'i': 1.0}, 'icki': {'n': 1.0}, 'ckin': {'g': 1.0}, 'king': {' ': 1.0}, 'me o': {'u': 1.0}, 'e ou': {'t': 1.0}, ' out': {'\\n': 0.3333333333333333, ' ': 0.6666666666666666}, 'out\\n': {'g': 1.0}, 'ut\\ng': {'o': 1.0}, 't\\ngo': {'t': 1.0}, '\\ngot': {' ': 1.0}, 'got ': {'m': 1.0}, 'ot m': {'y': 1.0}, 't my': {' ': 1.0}, ' my ': {'h': 0.125, 'm': 0.1875, 'a': 0.1875, 'e': 0.1875, 'b': 0.1875, 'd': 0.0625, 'r': 0.0625}, 'my h': {'e': 1.0}, 'y he': {'a': 1.0}, ' hea': {'d': 0.8, 'r': 0.2}, 'head': {' ': 0.5, \"'\": 0.5}, 'ead ': {'s': 0.5, 'f': 0.5}, 'ad s': {'p': 1.0}, 'd sp': {'i': 1.0}, ' spi': {'n': 1.0}, 'spin': {'n': 1.0}, 'pinn': {'i': 1.0}, 'inni': {'n': 1.0}, 'nnin': {'g': 1.0}, 'ning': {',': 0.14285714285714285, '\\n': 0.8571428571428571}, 'ing,': {' ': 1.0}, 'ng, ': {'n': 0.25, 'i': 0.75}, 'g, n': {'o': 1.0}, ', no': {' ': 1.0}, ' no ': {'k': 1.0}, 'no k': {'i': 1.0}, 'o ki': {'d': 1.0}, ' kid': {'d': 1.0}, 'kidd': {'i': 1.0}, 'iddi': {'n': 1.0}, 'ddin': {'g': 1.0}, 'ding': {',': 1.0}, 'g, i': {' ': 0.6666666666666666, 't': 0.3333333333333333}, ', i ': {'c': 0.5, 'm': 0.5}, ' i c': {'a': 1.0}, 'i ca': {'n': 1.0}, ' can': {\"'\": 1.0}, \"can'\": {'t': 1.0}, \"an't\": {' ': 1.0}, \"n't \": {'p': 0.3333333333333333, 'k': 0.3333333333333333, 's': 0.3333333333333333}, \"'t p\": {'i': 1.0}, 't pi': {'n': 1.0}, ' pin': {' ': 1.0}, 'pin ': {'y': 1.0}, 'in y': {'o': 1.0}, 'n yo': {'u': 1.0}, 'ou d': {'o': 1.0}, 'u do': {'w': 1.0}, ' dow': {'n': 1.0}, 'down': {'\\n': 0.3333333333333333, ',': 0.3333333333333333, 'f': 0.3333333333333333}, 'own\\n': {'w': 1.0}, 'wn\\nw': {'h': 1.0}, 'n\\nwh': {'a': 1.0}, '\\nwha': {'t': 1.0}, \"hat'\": {'s': 1.0}, \"at's\": {' ': 1.0}, \"t's \": {'g': 0.3333333333333333, 'r': 0.3333333333333333, 'h': 0.3333333333333333}, \"'s g\": {'o': 1.0}, 's go': {'i': 1.0}, ' goi': {'n': 1.0}, 'goin': {'g': 1.0}, 'oing': {' ': 1.0}, 'ng o': {'n': 1.0}, 'g on': {' ': 1.0}, ' on ': {'i': 0.3333333333333333, 'y': 0.3333333333333333, 't': 0.3333333333333333}, 'on i': {'n': 1.0}, 'n in': {' ': 1.0}, ' in ': {'t': 1.0}, 'in t': {'h': 1.0}, 'n th': {'a': 0.5, 'e': 0.5}, ' tha': {'t': 1.0}, 'that': {' ': 1.0}, 'at b': {'e': 1.0}, 't be': {'a': 1.0}, ' bea': {'u': 0.6666666666666666, 't': 0.3333333333333333}, 'beau': {'t': 1.0}, 'eaut': {'i': 1.0}, 'auti': {'f': 1.0}, 'utif': {'u': 1.0}, 'tifu': {'l': 1.0}, 'iful': {' ': 1.0}, 'ful ': {'m': 0.5, 't': 0.5}, 'ul m': {'i': 1.0}, 'l mi': {'n': 1.0}, ' min': {'d': 1.0}, 'mind': {'\\n': 1.0}, 'ind\\n': {'i': 0.3333333333333333, \"'\": 0.6666666666666666}, 'nd\\ni': {\"'\": 1.0}, \"d\\ni'\": {'m': 1.0}, \"\\ni'm\": {' ': 1.0}, \"i'm \": {'o': 0.3, 's': 0.1, 'b': 0.2, 'w': 0.3, 'a': 0.1}, \"'m o\": {'n': 0.3333333333333333, 'u': 0.6666666666666666}, 'm on': {' ': 1.0}, 'on y': {'o': 1.0}, 'ur m': {'a': 1.0}, 'r ma': {'g': 1.0}, ' mag': {'i': 1.0}, 'magi': {'c': 1.0}, 'agic': {'a': 1.0}, 'gica': {'l': 1.0}, 'ical': {' ': 1.0}, 'cal ': {'m': 1.0}, 'al m': {'y': 1.0}, 'l my': {'s': 1.0}, ' mys': {'t': 1.0}, 'myst': {'e': 1.0}, 'yste': {'r': 1.0}, 'ster': {'y': 1.0}, 'tery': {' ': 1.0}, 'ery ': {'r': 0.5, 'm': 0.5}, 'ry r': {'i': 1.0}, 'y ri': {'d': 1.0}, ' rid': {'e': 1.0}, 'ride': {'\\n': 1.0}, 'ide\\n': {'a': 1.0}, 'de\\na': {'n': 1.0}, 'e\\nan': {'d': 1.0}, '\\nand': {' ': 1.0}, 'nd i': {\"'\": 1.0}, \"d i'\": {'m': 1.0}, \" i'm\": {' ': 1.0}, \"'m s\": {'o': 1.0}, 'm so': {' ': 1.0}, ' so ': {'d': 1.0}, 'so d': {'i': 1.0}, 'o di': {'z': 1.0}, ' diz': {'z': 1.0}, 'dizz': {'y': 1.0}, 'izzy': {',': 1.0}, 'zzy,': {' ': 1.0}, 'zy, ': {'d': 1.0}, 'y, d': {'o': 1.0}, ', do': {'n': 1.0}, ' don': {\"'\": 1.0}, \"don'\": {'t': 1.0}, \"on't\": {' ': 1.0}, \"'t k\": {'n': 1.0}, 't kn': {'o': 1.0}, ' kno': {'w': 1.0}, 'know': {' ': 1.0}, 'now ': {'w': 1.0}, 'ow w': {'h': 1.0}, 'w wh': {'a': 1.0}, ' wha': {'t': 1.0}, 'at h': {'i': 1.0}, 't hi': {'t': 1.0}, ' hit': {' ': 1.0}, 'hit ': {'m': 1.0}, 'it m': {'e': 1.0}, 't me': {',': 1.0}, ' me,': {' ': 1.0}, 'me, ': {'b': 1.0}, 'e, b': {'u': 1.0}, ', bu': {'t': 1.0}, ' but': {' ': 1.0}, 'but ': {'i': 1.0}, 'ut i': {\"'\": 1.0}, \"t i'\": {'l': 0.3333333333333333, 'm': 0.6666666666666666}, \" i'l\": {'l': 1.0}, \"i'll\": {' ': 1.0}, \"'ll \": {'b': 0.25, 'g': 0.75}, 'll b': {'e': 1.0}, 'l be': {' ': 1.0}, ' be ': {'a': 1.0}, 'be a': {'l': 1.0}, 'e al': {'r': 0.125, 'l': 0.875}, ' alr': {'i': 1.0}, 'alri': {'g': 1.0}, 'lrig': {'h': 1.0}, 'righ': {'t': 1.0}, 'ight': {'\\n': 1.0}, 'ght\\n': {'m': 1.0}, 'ht\\nm': {'y': 1.0}, 't\\nmy': {' ': 1.0}, '\\nmy ': {'h': 0.6666666666666666, 'w': 0.3333333333333333}, \"ead'\": {'s': 1.0}, \"ad's\": {' ': 1.0}, \"d's \": {'u': 1.0}, \"'s u\": {'n': 1.0}, 's un': {'d': 1.0}, ' und': {'e': 1.0}, 'unde': {'r': 1.0}, 'nder': {' ': 1.0}, 'der ': {'w': 1.0}, 'er w': {'a': 1.0}, 'r wa': {'t': 1.0}, ' wat': {'e': 1.0}, 'wate': {'r': 1.0}, 'ater': {'\\n': 1.0}, 'ter\\n': {'b': 1.0}, 'er\\nb': {'u': 1.0}, 'r\\nbu': {'t': 1.0}, '\\nbut': {' ': 1.0}, \"'m b\": {'r': 1.0}, 'm br': {'e': 1.0}, ' bre': {'a': 1.0}, 'brea': {'t': 1.0}, 'reat': {'h': 1.0}, 'eath': {'i': 1.0}, 'athi': {'n': 1.0}, 'thin': {'g': 1.0}, 'hing': {' ': 1.0}, 'ng f': {'i': 1.0}, 'g fi': {'n': 1.0}, ' fin': {'e': 1.0}, 'fine': {'\\n': 1.0}, 'ine\\n': {'y': 1.0}, 'ne\\ny': {'o': 1.0}, 'e\\nyo': {'u': 1.0}, '\\nyou': {\"'\": 1.0}, \"you'\": {'r': 1.0}, \"ou'r\": {'e': 1.0}, \"u're\": {' ': 1.0}, \"'re \": {'c': 0.3, 'm': 0.5, 'b': 0.2}, 're c': {'r': 1.0}, 'e cr': {'a': 0.6666666666666666, 'y': 0.3333333333333333}, ' cra': {'z': 1.0}, 'craz': {'y': 1.0}, 'razy': {' ': 1.0}, 'azy ': {'a': 1.0}, 'zy a': {'n': 1.0}, 'y an': {'d': 1.0}, 'm ou': {'t': 1.0}, 'ut o': {'f': 1.0}, 't of': {' ': 1.0}, ' of ': {'m': 0.5625, 'y': 0.4375}, 'of m': {'y': 0.2222222222222222, 'e': 0.7777777777777778}, 'f my': {' ': 1.0}, 'my m': {'i': 0.6666666666666666, 'u': 0.3333333333333333}, 'y mi': {'n': 1.0}, \"nd\\n'\": {'c': 1.0}, \"d\\n'c\": {'a': 1.0}, \"\\n'ca\": {'u': 1.0}, \"'cau\": {'s': 1.0}, 'caus': {'e': 1.0}, 'ause': {' ': 1.0}, 'use ': {'a': 0.5, 'i': 0.5}, 'se a': {'l': 1.0}, ' all': {' ': 0.7931034482758621, ',': 0.20689655172413793}, 'all ': {'o': 0.5384615384615384, 'y': 0.23076923076923078, 't': 0.23076923076923078}, 'll o': {'f': 1.0}, 'l of': {' ': 1.0}, 'f me': {'\\n': 1.0}, ' me\\n': {'l': 0.3, 'i': 0.3, 'a': 0.4}, 'me\\nl': {'o': 1.0}, 'e\\nlo': {'v': 1.0}, '\\nlov': {'e': 1.0}, 'love': {'s': 0.5, ' ': 0.5}, 'oves': {' ': 1.0}, 'ves ': {'a': 1.0}, 'es a': {'l': 0.5, 'n': 0.5}, 's al': {'l': 1.0}, 'of y': {'o': 1.0}, 'f yo': {'u': 1.0}, 'you\\n': {'l': 0.2727272727272727, 'y': 0.2727272727272727, 'h': 0.09090909090909091, 'e': 0.09090909090909091, 'm': 0.09090909090909091, 'c': 0.09090909090909091, 'i': 0.09090909090909091}, 'ou\\nl': {'o': 1.0}, 'u\\nlo': {'v': 1.0}, 'ove ': {'y': 1.0}, 've y': {'o': 1.0}, 'e yo': {'u': 1.0}, 'ur c': {'u': 1.0}, 'r cu': {'r': 1.0}, ' cur': {'v': 1.0}, 'curv': {'e': 1.0}, 'urve': {'s': 1.0}, 'rves': {' ': 1.0}, 's an': {'d': 1.0}, 'nd a': {'l': 0.5, 'n': 0.5}, 'd al': {'l': 1.0}, 'll y': {'o': 1.0}, 'l yo': {'u': 1.0}, 'ur e': {'d': 1.0}, 'r ed': {'g': 1.0}, ' edg': {'e': 1.0}, 'edge': {'s': 1.0}, 'dges': {'\\n': 1.0}, 'ges\\n': {'a': 1.0}, 'es\\na': {'l': 1.0}, 's\\nal': {'l': 1.0}, '\\nall': {' ': 1.0}, 'ur p': {'e': 1.0}, 'r pe': {'r': 1.0}, ' per': {'f': 1.0}, 'perf': {'e': 1.0}, 'erfe': {'c': 1.0}, 'rfec': {'t': 1.0}, 'fect': {' ': 0.5, 'i': 0.5}, 'ect ': {'i': 1.0}, 'ct i': {'m': 1.0}, 't im': {'p': 1.0}, ' imp': {'e': 1.0}, 'impe': {'r': 1.0}, 'mper': {'f': 1.0}, 'ecti': {'o': 1.0}, 'ctio': {'n': 1.0}, 'tion': {'s': 0.75, ',': 0.25}, 'ions': {'\\n': 1.0}, 'ons\\n': {'g': 1.0}, 'ns\\ng': {'i': 1.0}, 's\\ngi': {'v': 1.0}, '\\ngiv': {'e': 1.0}, 'give': {' ': 1.0}, 'ive ': {'y': 0.5, 'm': 0.5}, 'ur a': {'l': 1.0}, 'r al': {'l': 1.0}, 'll t': {'o': 1.0}, 'l to': {' ': 0.8571428571428571, 'o': 0.14285714285714285}, ' to ': {'m': 0.42857142857142855, 'y': 0.42857142857142855, 't': 0.14285714285714285}, 'to m': {'e': 1.0}, 'o me': {'\\n': 1.0}, 'me\\ni': {\"'\": 1.0}, \"e\\ni'\": {'l': 1.0}, \"\\ni'l\": {'l': 1.0}, 'll g': {'i': 1.0}, 'l gi': {'v': 1.0}, ' giv': {'e': 1.0}, 've m': {'y': 0.42857142857142855, 'e': 0.5714285714285714}, 'e my': {' ': 1.0}, 'my a': {'l': 1.0}, 'y al': {'l': 1.0}, 'to y': {'o': 1.0}, 'o yo': {'u': 1.0}, 'ou\\ny': {'o': 1.0}, 'u\\nyo': {'u': 1.0}, 're m': {'y': 1.0}, 'my e': {'n': 1.0}, 'y en': {'d': 1.0}, ' end': {' ': 1.0}, 'end ': {'a': 1.0}, 'd an': {'d': 1.0}, 'nd m': {'y': 1.0}, 'd my': {' ': 1.0}, 'my b': {'e': 1.0}, 'y be': {'g': 1.0}, ' beg': {'i': 1.0}, 'begi': {'n': 1.0}, 'egin': {'n': 1.0}, 'ginn': {'i': 1.0}, 'ing\\n': {'e': 0.5, \"'\": 0.5}, 'ng\\ne': {'v': 1.0}, 'g\\nev': {'e': 1.0}, '\\neve': {'n': 1.0}, 'even': {' ': 1.0}, 'ven ': {'w': 1.0}, 'en w': {'h': 1.0}, 'n wh': {'e': 1.0}, ' whe': {'n': 1.0}, 'when': {' ': 1.0}, 'hen ': {'i': 0.75, 'y': 0.25}, 'en i': {' ': 1.0}, 'n i ': {'l': 1.0}, ' i l': {'o': 1.0}, 'i lo': {'s': 1.0}, ' los': {'e': 1.0}, 'lose': {' ': 1.0}, 'ose ': {'i': 1.0}, 'se i': {\"'\": 0.5, ' ': 0.5}, \"e i'\": {'m': 1.0}, \"'m w\": {'i': 1.0}, 'm wi': {'n': 1.0}, ' win': {'n': 1.0}, 'winn': {'i': 1.0}, \"ng\\n'\": {'c': 1.0}, \"g\\n'c\": {'a': 1.0}, 'e i ': {'g': 1.0}, ' i g': {'i': 1.0}, 'i gi': {'v': 1.0}, 'ou a': {'l': 1.0}, 'u al': {'l': 1.0}, 'all,': {' ': 1.0}, 'll, ': {'a': 0.7142857142857143, 'y': 0.14285714285714285, 't': 0.14285714285714285}, 'l, a': {'l': 1.0}, ', al': {'l': 1.0}, 'me\\na': {'n': 1.0}, 'ou g': {'i': 1.0}, 'u gi': {'v': 1.0}, 'e me': {' ': 1.0}, 'me a': {'l': 1.0}, 'ou\\nh': {'o': 1.0}, 'u\\nho': {'w': 1.0}, '\\nhow': {' ': 1.0}, 'how ': {'m': 1.0}, 'ow m': {'a': 1.0}, 'w ma': {'n': 1.0}, ' man': {'y': 1.0}, 'many': {' ': 1.0}, 'any ': {'t': 1.0}, 'ny t': {'i': 1.0}, 'y ti': {'m': 1.0}, ' tim': {'e': 1.0}, 'time': {'s': 1.0}, 'imes': {' ': 1.0}, 'mes ': {'d': 1.0}, 'es d': {'o': 1.0}, 's do': {' ': 1.0}, 'do i': {' ': 1.0}, 'o i ': {'h': 1.0}, ' i h': {'a': 1.0}, 'i ha': {'v': 1.0}, ' hav': {'e': 1.0}, 'have': {' ': 1.0}, 'ave ': {'t': 1.0}, 've t': {'o': 1.0}, 'e to': {' ': 1.0}, 'to t': {'e': 1.0}, 'o te': {'l': 1.0}, ' tel': {'l': 1.0}, 'tell': {' ': 1.0}, 'ell ': {'y': 1.0}, 'ou\\ne': {'v': 1.0}, 'u\\nev': {'e': 1.0}, 'en y': {'o': 1.0}, ' cry': {'i': 1.0}, 'cryi': {'n': 1.0}, 'ryin': {'g': 1.0}, 'ying': {' ': 1.0}, 'ng y': {'o': 1.0}, 'g yo': {'u': 1.0}, 're b': {'e': 0.5, 'o': 0.5}, 'e be': {'a': 1.0}, 'ul t': {'o': 1.0}, ' too': {'\\n': 1.0}, 'too\\n': {'t': 1.0}, 'oo\\nt': {'h': 1.0}, 'o\\nth': {'e': 1.0}, '\\nthe': {' ': 1.0}, 'the ': {'w': 0.5, 't': 0.5}, 'he w': {'o': 1.0}, 'e wo': {'r': 1.0}, ' wor': {'l': 0.5, 's': 0.5}, 'worl': {'d': 1.0}, 'orld': {' ': 1.0}, 'rld ': {'i': 1.0}, 'd is': {' ': 1.0}, ' is ': {'b': 1.0}, 'is b': {'e': 1.0}, 's be': {'a': 1.0}, 'beat': {'i': 1.0}, 'eati': {'n': 1.0}, 'atin': {'g': 1.0}, 'ting': {' ': 1.0}, 'own,': {' ': 1.0}, 'wn, ': {'i': 1.0}, 'n, i': {\"'\": 1.0}, \", i'\": {'m': 1.0}, \"'m a\": {'r': 1.0}, 'm ar': {'o': 1.0}, ' aro': {'u': 1.0}, 'arou': {'n': 1.0}, 'roun': {'d': 1.0}, 'ound': {' ': 1.0}, 'und ': {'t': 1.0}, 'nd t': {'h': 1.0}, 'd th': {'r': 1.0}, ' thr': {'o': 1.0}, 'thro': {'u': 1.0}, 'hrou': {'g': 1.0}, 'roug': {'h': 1.0}, 'ough': {' ': 1.0}, 'ugh ': {'e': 0.5, 'i': 0.5}, 'gh e': {'v': 1.0}, 'h ev': {'e': 1.0}, ' eve': {'r': 1.0}, 'ever': {'y': 1.0}, 'very': {' ': 1.0}, 'ry m': {'o': 1.0}, 'y mo': {'v': 1.0}, ' mov': {'e': 1.0}, 'move': {'\\n': 1.0}, 'ove\\n': {'y': 1.0}, 've\\ny': {'o': 1.0}, 'my d': {'o': 1.0}, 'y do': {'w': 1.0}, 'ownf': {'a': 1.0}, 'wnfa': {'l': 1.0}, 'nfal': {'l': 1.0}, 'fall': {',': 1.0}, 'l, y': {'o': 1.0}, ', yo': {'u': 1.0}, 'y mu': {'s': 1.0}, ' mus': {'e': 1.0}, 'muse': {'\\n': 1.0}, 'use\\n': {'m': 1.0}, 'se\\nm': {'y': 1.0}, 'e\\nmy': {' ': 1.0}, 'my w': {'o': 1.0}, 'y wo': {'r': 1.0}, 'wors': {'t': 1.0}, 'orst': {' ': 1.0}, 'rst ': {'d': 1.0}, 'st d': {'i': 1.0}, 't di': {'s': 1.0}, ' dis': {'t': 1.0}, 'dist': {'r': 1.0}, 'istr': {'a': 1.0}, 'stra': {'c': 1.0}, 'trac': {'t': 1.0}, 'ract': {'i': 1.0}, 'acti': {'o': 1.0}, 'ion,': {' ': 1.0}, 'on, ': {'m': 1.0}, 'n, m': {'y': 1.0}, ', my': {' ': 1.0}, 'my r': {'h': 1.0}, 'y rh': {'y': 1.0}, ' rhy': {'t': 1.0}, 'rhyt': {'h': 1.0}, 'hyth': {'m': 1.0}, 'ythm': {' ': 1.0}, 'thm ': {'a': 1.0}, 'hm a': {'n': 1.0}, 'm an': {'d': 1.0}, 'nd b': {'l': 1.0}, 'd bl': {'u': 1.0}, ' blu': {'e': 1.0}, 'blue': {'s': 1.0}, 'lues': {'\\n': 1.0}, 'ues\\n': {'i': 1.0}, 'es\\ni': {' ': 1.0}, 's\\ni ': {'c': 1.0}, '\\ni c': {'a': 1.0}, \"'t s\": {'t': 1.0}, 't st': {'o': 1.0}, ' sto': {'p': 1.0}, 'stop': {' ': 1.0}, 'top ': {'s': 1.0}, 'op s': {'i': 1.0}, 'p si': {'n': 1.0}, ' sin': {'g': 1.0}, 'sing': {'i': 1.0}, 'ingi': {'n': 1.0}, 'ngin': {'g': 1.0}, 'ging': {',': 1.0}, ', it': {\"'\": 1.0}, \" it'\": {'s': 1.0}, \"it's\": {' ': 1.0}, \"'s r\": {'i': 1.0}, 's ri': {'n': 1.0}, ' rin': {'g': 1.0}, 'ring': {'i': 1.0}, ' i m': {'y': 1.0}, 'i my': {' ': 1.0}, 'ad f': {'o': 1.0}, 'd fo': {'r': 1.0}, ' for': {' ': 1.0}, 'for ': {'y': 1.0}, 'or y': {'o': 1.0}, 'r yo': {'u': 1.0}, 'ou\\nm': {'y': 1.0}, 'u\\nmy': {' ': 1.0}, 'ou\\nc': {'a': 1.0}, 'u\\nca': {'r': 1.0}, '\\ncar': {'d': 1.0}, 'card': {'s': 1.0}, 'ards': {' ': 1.0}, 'rds ': {'o': 1.0}, 'ds o': {'n': 1.0}, 's on': {' ': 1.0}, 'on t': {'h': 1.0}, ' the': {' ': 1.0}, 'he t': {'a': 1.0}, 'e ta': {'b': 1.0}, ' tab': {'l': 1.0}, 'tabl': {'e': 1.0}, 'able': {',': 1.0}, 'ble,': {' ': 1.0}, 'le, ': {'w': 1.0}, 'e, w': {'e': 1.0}, ', we': {\"'\": 1.0}, \" we'\": {'r': 1.0}, \"we'r\": {'e': 1.0}, \"e're\": {' ': 1.0}, 'e bo': {'t': 1.0}, ' bot': {'h': 1.0}, 'both': {' ': 1.0}, 'oth ': {'s': 1.0}, 'th s': {'h': 1.0}, 'h sh': {'o': 1.0}, ' sho': {'w': 1.0}, 'show': {'i': 1.0}, 'howi': {'n': 1.0}, 'owin': {'g': 1.0}, 'ng h': {'e': 1.0}, 'g he': {'a': 1.0}, 'hear': {'t': 1.0}, 'eart': {'s': 1.0}, 'arts': {'\\n': 1.0}, 'rts\\n': {'r': 1.0}, 'ts\\nr': {'i': 1.0}, 's\\nri': {'s': 1.0}, '\\nris': {'k': 1.0}, 'risk': {'i': 1.0}, 'iski': {'n': 1.0}, 'skin': {'g': 1.0}, 'ng i': {'t': 1.0}, 'g it': {' ': 1.0}, ' it ': {'a': 1.0}, 'it a': {'l': 1.0}, 't al': {'l': 1.0}, 'l, t': {'h': 1.0}, ', th': {'o': 1.0}, ' tho': {'u': 1.0}, 'houg': {'h': 1.0}, 'gh i': {'t': 1.0}, 'h it': {\"'\": 1.0}, \"'s h\": {'a': 1.0}, 's ha': {'r': 1.0}, ' har': {'d': 1.0}, 'hard': {'\\n': 1.0}, 'ard\\n': {\"'\": 1.0}, \"rd\\n'\": {'c': 1.0}, 'ou\\ni': {' ': 1.0}, 'u\\ni ': {'g': 1.0}, '\\ni g': {'i': 1.0}}\n"
     ]
    }
   ],
   "source": [
    "print(model)"
   ]
  },
  {
   "cell_type": "code",
   "execution_count": 7,
   "metadata": {
    "colab": {},
    "colab_type": "code",
    "id": "SIPTDmymMe9G"
   },
   "outputs": [],
   "source": [
    "import numpy as np\n",
    "\n",
    "\n",
    "def sample_next(ctx,T,k):\n",
    "    ctx = ctx[-k:]\n",
    "    if T.get(ctx) is None:\n",
    "        return \" \"\n",
    "    possible_Chars = list(T[ctx].keys())\n",
    "    possible_values = list(T[ctx].values())\n",
    "    \n",
    "    #print(possible_Chars)\n",
    "    #print(possible_values)\n",
    "    \n",
    "    return np.random.choice(possible_Chars,p=possible_values)"
   ]
  },
  {
   "cell_type": "code",
   "execution_count": 8,
   "metadata": {
    "colab": {},
    "colab_type": "code",
    "id": "qbggpv6wMlu3"
   },
   "outputs": [],
   "source": [
    "\n",
    "def generateText(starting_sent,k=4,maxLen=1000):\n",
    "    \n",
    "    sentence = starting_sent\n",
    "    ctx = starting_sent[-k:]\n",
    "    \n",
    "    for ix in range(maxLen):\n",
    "        next_prediction = sample_next(ctx,model,k)\n",
    "        sentence += next_prediction\n",
    "        ctx = sentence[-k:]\n",
    "    return sentence"
   ]
  },
  {
   "cell_type": "code",
   "execution_count": 9,
   "metadata": {
    "colab": {
     "base_uri": "https://localhost:8080/",
     "height": 1000
    },
    "colab_type": "code",
    "executionInfo": {
     "elapsed": 1124,
     "status": "ok",
     "timestamp": 1588108218445,
     "user": {
      "displayName": "rajan puri",
      "photoUrl": "",
      "userId": "06101096958930631488"
     },
     "user_tz": -330
    },
    "id": "oGGIPc5BMpFl",
    "outputId": "4ed2ee5b-9a3e-40fa-cbfa-9019457930a2"
   },
   "outputs": [
    {
     "name": "stdout",
     "output_type": "stream",
     "text": [
      "love you\n",
      "how many times do withough it's ringing, i my mind\n",
      "i'm around through every move\n",
      "you're both showing head spinning\n",
      "'cause all to me\n",
      "i'll be all your magical mystery ride\n",
      "and my all to me\n",
      "love you're crying hearts\n",
      "risking you downfall, all of me\n",
      "loves and you're my mind\n",
      "'cause all of me\n",
      "love you all of you give you\n",
      "loves all, thout of you\n",
      "you're beautiful mind\n",
      "'cause i give your all to me\n",
      "and you\n",
      "love your all, thout you\n",
      "i give your perfections\n",
      "give me all of your smart mouth\n",
      "drawing me all your edges\n",
      "all of you give me all to you\n",
      "i give you give my mind\n",
      "i'm winning\n",
      "'cause i give you all you're my head's under water\n",
      "but i'm on that hit me, but i'll give me all of you\n",
      "loves all of me\n",
      "and you\n",
      "love your edges\n",
      "all of my rhythm and your perfections\n",
      "give me all you all to you're my all of your curves all to your all of me\n",
      "and and my head spinning\n",
      "even when i lose i'm around through every ride\n",
      "and i'm winning\n",
      "even when i lose i give your magical mystery ride\n",
      "and i'm winning\n",
      "'cause all, all of my beginning\n",
      "'cause i give me out you\n",
      "you're beautiful mind\n",
      "'cause i give my beginning\n",
      "even when you're crazy and my all you're crazy and and and and i'm breathing head spinning, it's ringing, it's ringing, i can't know what's ringing, it's going me in, and and i'm so dizzy, don't pin you\n",
      "you're my end and blues\n",
      "i can't know what beautiful mind\n",
      "i'm so dizzy, don't stop singing, i my rhythm and my hearts\n",
      "risking your edges\n",
      "all of you\n",
      "loves all of my all of my muse\n",
      "my head spinning\n",
      "'cause all, all of me\n",
      "and and all, all, you're crazy and your edges\n",
      "all of you\n",
      "you're crying fine\n",
      "you're my all your curves all of you give your perfect imperfect imperfect imperfect imperfections\n",
      "give me in, and i'm breathing on you\n",
      "i give my all to me\n",
      "love you give your perfections\n",
      "give me in, and and and i'm winning\n",
      "'cause alright\n",
      "my world i do without of your curves and i'm winning\n",
      "even when i lose i'm around through every ride\n",
      "and your curves all of you\n",
      "even when you give you're both showing your edg\n"
     ]
    }
   ],
   "source": [
    "text = generateText(\"love\",k=4,maxLen=2000)\n",
    "print(text)"
   ]
  },
  {
   "cell_type": "code",
   "execution_count": 10,
   "metadata": {
    "colab": {},
    "colab_type": "code",
    "id": "Q17O9zYoM1zS"
   },
   "outputs": [],
   "source": [
    "files=\"Apna Time Aayega.txt\"\n",
    "data= load_text(files)\n",
    "model=train(data)\n",
    "x= generateText(\"apna\",k=4,maxLen=2000)"
   ]
  },
  {
   "cell_type": "code",
   "execution_count": 11,
   "metadata": {
    "colab": {
     "base_uri": "https://localhost:8080/",
     "height": 1000
    },
    "colab_type": "code",
    "executionInfo": {
     "elapsed": 1184,
     "status": "ok",
     "timestamp": 1588108220933,
     "user": {
      "displayName": "rajan puri",
      "photoUrl": "",
      "userId": "06101096958930631488"
     },
     "user_tz": -330
    },
    "id": "AUwquZgKWo17",
    "outputId": "af4338ab-3820-45d3-8c32-338bf4e933d6"
   },
   "outputs": [
    {
     "name": "stdout",
     "output_type": "stream",
     "text": [
      "apna time aayega\n",
      "kya ghanta lekar..\n",
      " \n",
      "kyon ka jwala\n",
      "tujhe na mil payega\n",
      "aayega\n",
      "aisa shaana ab laalach nahin hai\n",
      "jo darr ko cheerenge\n",
      "hum kaamyabi chahat ki\n",
      "mohobbat ki hai chahat ki, ibaadat ki\n",
      "aur jurrat ki\n",
      "jeetne ki mehnat kismat mein hai, amaanat se jeene de\n",
      "ab kaise tu ghanta lekar jaayega\n",
      "apna time aayega\n",
      "meri bediyan par aayega\n",
      "apna time aayega\n",
      " \n",
      "ab hai\n",
      " \n",
      "iss hard’ch nai hai\n",
      "kyon?\n",
      " \n",
      "tu nanga hi to aayega\n",
      " \n",
      "tu nanga hi to aayega apna time aaya khwaab\n",
      "ab kuchh mila paseene mein\n",
      " \n",
      "kyon\n",
      "kyon ki hai\n",
      " \n",
      "tu nanga hi to aayega\n",
      "apna time aayega\n",
      "kya ghanta lekar jaayega\n",
      "aisa mera khwaab\n",
      "ab hausle se\n",
      "matlab bana lala\n",
      "meri bediyan par\n",
      "yahaan marzi ki\n",
      "aasman bhi satayega\n",
      "apna time aayega apni raakh se\n",
      "tu nanga hi to khaayega\n",
      "uth ja ab jeene mein nahi hai\n",
      "jo darr ko cheerenge\n",
      "hum kaamyabi chahat ki\n",
      "aasman bhi sar par\n",
      "yahaan par\n",
      "yahaanat se main\n",
      "jitna hi barkat ki, ibaadat ki\n",
      "jeetne ki hai\n",
      " \n",
      "tu nanga hi to aayega\n",
      "aisa koyi hai\n",
      "phir bhi satayega\n",
      "aisa shaana ab talaash mein nahi\n",
      "utni taakat di hai\n",
      "kya ghanta lekar jaayega\n",
      "apna time aayega\n",
      "apna time aayega\n",
      "apna time aayega\n",
      "meri bediyan parwane ki\n",
      "aur jurrat ki\n",
      "aasman bhi ladka sehmat mein\n",
      "parwane ki mehnat ki ab laalach nahin hai\n",
      "zaroorat ki hai\n",
      "zaroorat ne hi tha sar uthayega\n",
      "mere jaisa shaan pighlayega\n",
      "apna time aayega\n",
      " \n",
      "ab kuchh mil payega\n",
      "meri bediyan parwaaz dekh par aayega\n",
      "aayega\n",
      "kya ghanta lekar..\n",
      " \n",
      "kissi ka jwala\n",
      "meri bediyan pighlayega\n",
      "apna time aayega\n",
      " \n",
      "taakat ne hi to aaya hath nahi hai\n",
      "phir bhi ladka sehmat mein hai\n",
      "shohrat yeh hai\n",
      " \n",
      "taakat nahi\n",
      "utna time aaya hai\n",
      "shohrat kismat mein\n",
      "har raaste ko cheerenge\n",
      "sab kaise tu dafnayega\n",
      " \n",
      "tu nanga hi tha sar par aayega\n",
      "apna time aaya hath nai hai\n",
      "zaroorat nahi\n",
      "utni taakat ki apna time aaya hai\n",
      "kyon ki hai jaisa shabdon ki hai\n",
      "kya ghanta lekar jaayega\n",
      "apna time aayega\n",
      " \n",
      "tu nanga hi barkat di hai\n",
      "tere bhai chheene mein hai\n",
      "kyon ka hai\n",
      "jo darr ko bhi sar uthayega\n",
      "apna toone boya hai tu\n",
      "utna time aaya khud ki ab jeene mein nahi hai\n",
      "tere jaisa shaan marzi ki\n",
      "mohobbat ki hai seene me\n"
     ]
    }
   ],
   "source": [
    "print(x)"
   ]
  },
  {
   "cell_type": "code",
   "execution_count": 0,
   "metadata": {
    "colab": {},
    "colab_type": "code",
    "id": "xHpqncPZWuRZ"
   },
   "outputs": [],
   "source": []
  }
 ],
 "metadata": {
  "colab": {
   "authorship_tag": "ABX9TyMfbUcZWwT4FSHlkYnMDCkY",
   "name": "Markov.ipynb",
   "provenance": []
  },
  "kernelspec": {
   "display_name": "Python 3",
   "language": "python",
   "name": "python3"
  },
  "language_info": {
   "codemirror_mode": {
    "name": "ipython",
    "version": 3
   },
   "file_extension": ".py",
   "mimetype": "text/x-python",
   "name": "python",
   "nbconvert_exporter": "python",
   "pygments_lexer": "ipython3",
   "version": "3.7.3"
  }
 },
 "nbformat": 4,
 "nbformat_minor": 1
}
